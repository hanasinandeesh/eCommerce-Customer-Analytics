{
 "cells": [
  {
   "cell_type": "code",
   "execution_count": 3,
   "metadata": {},
   "outputs": [],
   "source": [
    "from sklearn.preprocessing import StandardScaler\n",
    "from sklearn.metrics.pairwise import cosine_similarity\n",
    "import numpy as np\n",
    "import pandas as pd "
   ]
  },
  {
   "cell_type": "markdown",
   "metadata": {},
   "source": [
    "# Merge Customers and Transactions datasets"
   ]
  },
  {
   "cell_type": "code",
   "execution_count": 4,
   "metadata": {},
   "outputs": [],
   "source": [
    "customers = pd.read_csv(r'C:\\Users\\hansi\\OneDrive\\Desktop\\zeotap_assessment\\ecommerce_analysis\\data\\Customers.csv')\n",
    "products = pd.read_csv(r'C:\\Users\\hansi\\OneDrive\\Desktop\\zeotap_assessment\\ecommerce_analysis\\data\\Products.csv')\n",
    "transactions = pd.read_csv(r'C:\\Users\\hansi\\OneDrive\\Desktop\\zeotap_assessment\\ecommerce_analysis\\data\\Transactions.csv')"
   ]
  },
  {
   "cell_type": "markdown",
   "metadata": {},
   "source": [
    "# Merge transactions and customers on the 'CustomerID' column"
   ]
  },
  {
   "cell_type": "code",
   "execution_count": 5,
   "metadata": {},
   "outputs": [],
   "source": [
    "merged_data = pd.merge(transactions, customers, on='CustomerID')"
   ]
  },
  {
   "cell_type": "markdown",
   "metadata": {},
   "source": [
    "# Aggregate transaction data by CustomerID"
   ]
  },
  {
   "cell_type": "code",
   "execution_count": 6,
   "metadata": {},
   "outputs": [],
   "source": [
    "customer_data = merged_data.groupby('CustomerID').agg({\n",
    "    'TotalValue': 'sum',\n",
    "    'Quantity': 'sum'\n",
    "}).reset_index()"
   ]
  },
  {
   "cell_type": "markdown",
   "metadata": {},
   "source": [
    "# Scale data for similarity computation"
   ]
  },
  {
   "cell_type": "code",
   "execution_count": 7,
   "metadata": {},
   "outputs": [],
   "source": [
    "scaler = StandardScaler()\n",
    "scaled_data = scaler.fit_transform(customer_data[['TotalValue', 'Quantity']])"
   ]
  },
  {
   "cell_type": "markdown",
   "metadata": {},
   "source": [
    "# Cosine similarity\n"
   ]
  },
  {
   "cell_type": "code",
   "execution_count": 8,
   "metadata": {},
   "outputs": [],
   "source": [
    "similarity_matrix = cosine_similarity(scaled_data)"
   ]
  },
  {
   "cell_type": "markdown",
   "metadata": {},
   "source": [
    "# Display similarity for first customer\n"
   ]
  },
  {
   "cell_type": "code",
   "execution_count": 9,
   "metadata": {},
   "outputs": [
    {
     "name": "stdout",
     "output_type": "stream",
     "text": [
      "[ 1.          0.80759386  0.0024998  -0.99635373  0.97398855 -0.18169128\n",
      "  0.99576195 -0.99376286  0.96731259  0.56045711 -0.67852285 -0.9582175\n",
      " -0.8528416   0.95270289  0.96716372  0.59827785 -0.99990214 -0.97352068\n",
      "  0.75410701  0.96857443 -0.86421264 -0.8317224  -0.63273453 -0.99799149\n",
      "  0.89743541  0.68271277  0.65181286 -0.95009054  0.79643377  0.37716015\n",
      "  0.82981037  0.9162629   0.9435917  -0.71806268  0.93833759  0.93040255\n",
      " -0.79028818  0.36279815 -0.99995382  0.52498453 -0.96828011  0.99982157\n",
      "  0.92416407  0.94587546 -0.97403204 -0.92445033  0.33663176  0.05855626\n",
      " -0.35667406  0.98131842 -0.76918054  0.91863182 -0.9208913  -0.8915188\n",
      "  0.73041165  0.90582798 -0.93358911  0.9684147  -0.87551968  0.94109063\n",
      "  0.99328849  0.90307232  0.96446421 -0.56312358 -0.95191079  0.72688039\n",
      " -0.84523315 -0.96504969  0.98800217  0.86560076  0.91688914  0.30450726\n",
      "  0.83893858  0.98298994 -0.99989291  0.7825412   0.86511753  0.98215591\n",
      " -0.18983147  0.9726206  -0.96399101 -0.89469069  0.93682229 -0.9990025\n",
      "  0.99999905  0.35551403 -0.92801249  0.85180108  0.99978501 -0.99055305\n",
      " -0.81414331  0.99936691 -0.95299472  0.79568901  0.95844297 -0.73391432\n",
      "  0.95758854 -0.39871393 -0.89833825 -0.64895887 -0.95557943 -0.93674742\n",
      "  0.99805415 -0.90727705 -0.88847655  0.32147702  0.47115576 -0.88183813\n",
      " -0.99162293  0.95493354 -0.10682119  0.93969487 -0.99989889 -0.87373887\n",
      "  0.97159973  0.89217034 -0.08949745  0.90962713  0.9290341   0.96619709\n",
      "  0.83292317 -0.90702639  0.97959221 -0.99796638  0.99725894 -0.51086065\n",
      "  0.99897322  0.96113932  0.94858063  0.96590923  0.96668765  0.92734117\n",
      "  0.93111822 -0.4075319   0.99653536 -0.98994669  0.97697117 -0.84252873\n",
      " -0.69964236  0.99132878 -0.84177724  0.76388869 -0.9424621   0.86616275\n",
      " -0.93957905  0.99533204 -0.15428087 -0.90623676 -0.88624581  0.96496239\n",
      "  0.91075695  0.93269037 -0.94875328  0.62637482 -0.86919714 -0.96268787\n",
      "  0.80959067  0.77273924  0.95228273 -0.13536367 -0.37549823 -0.99636086\n",
      " -0.911585    0.99941953 -0.99554523  0.79816902  0.97556525 -0.3225581\n",
      " -0.99995233 -0.78185725 -0.7502208   0.86364648 -0.93684672  0.74331318\n",
      " -0.99034019  0.61472587  0.97120157  0.99176502 -0.99997961 -0.79925229\n",
      " -0.91877998  0.05937158  0.94707699  0.90911033  0.95073963 -0.04111392\n",
      " -0.87315389  0.85828305 -0.18681588  0.9650584   0.95231664  0.96816437\n",
      " -0.93773228 -0.99894439 -0.31644703  0.88939818  0.96902986  0.89659207\n",
      " -0.89647264]\n"
     ]
    }
   ],
   "source": [
    "print(similarity_matrix[0])"
   ]
  },
  {
   "cell_type": "markdown",
   "metadata": {},
   "source": [
    "# Function to find top 3 similar customers"
   ]
  },
  {
   "cell_type": "code",
   "execution_count": 10,
   "metadata": {},
   "outputs": [],
   "source": [
    "def find_top_lookalikes(customer_id, similarity_matrix, customer_ids):\n",
    "    idx = customer_ids.index(customer_id)\n",
    "    similar_indices = np.argsort(similarity_matrix[idx])[::-1][1:4]\n",
    "    return [(customer_ids[i], similarity_matrix[idx][i]) for i in similar_indices]"
   ]
  },
  {
   "cell_type": "markdown",
   "metadata": {},
   "source": [
    "# Example for CustomerID C0001"
   ]
  },
  {
   "cell_type": "code",
   "execution_count": 11,
   "metadata": {},
   "outputs": [
    {
     "name": "stdout",
     "output_type": "stream",
     "text": [
      "Lookalikes for C0001: [('C0085', np.float64(0.9999990504724361)), ('C0042', np.float64(0.9998215747742084)), ('C0089', np.float64(0.9997850140987701))]\n"
     ]
    }
   ],
   "source": [
    "customer_ids = customer_data['CustomerID'].tolist()\n",
    "lookalikes = find_top_lookalikes('C0001', similarity_matrix, customer_ids)\n",
    "print('Lookalikes for C0001:', lookalikes)"
   ]
  },
  {
   "cell_type": "code",
   "execution_count": 12,
   "metadata": {},
   "outputs": [],
   "source": [
    "lookalike_results = {}\n",
    "for customer_id in customer_ids[:20]:\n",
    "    lookalike_results[customer_id] = find_top_lookalikes(customer_id, similarity_matrix, customer_ids)"
   ]
  },
  {
   "cell_type": "markdown",
   "metadata": {},
   "source": [
    "# Save to CSV"
   ]
  },
  {
   "cell_type": "code",
   "execution_count": 14,
   "metadata": {},
   "outputs": [],
   "source": [
    "import os\n",
    "import csv\n",
    "\n",
    "# Ensure the output directory exists\n",
    "os.makedirs('output', exist_ok=True)\n",
    "\n",
    "# Write the lookalike data to a CSV file\n",
    "with open('output/Lookalike.csv', 'w') as f:\n",
    "    writer = csv.writer(f)\n",
    "    writer.writerow(['CustomerID', 'Lookalikes'])\n",
    "    for customer_id, lookalikes in lookalike_results.items():\n",
    "        writer.writerow([customer_id, lookalikes])"
   ]
  }
 ],
 "metadata": {
  "kernelspec": {
   "display_name": "Python 3",
   "language": "python",
   "name": "python3"
  },
  "language_info": {
   "codemirror_mode": {
    "name": "ipython",
    "version": 3
   },
   "file_extension": ".py",
   "mimetype": "text/x-python",
   "name": "python",
   "nbconvert_exporter": "python",
   "pygments_lexer": "ipython3",
   "version": "3.12.6"
  }
 },
 "nbformat": 4,
 "nbformat_minor": 2
}
